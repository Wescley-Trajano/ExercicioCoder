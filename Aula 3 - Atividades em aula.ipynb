{
 "cells": [
  {
   "cell_type": "code",
   "execution_count": 3,
   "metadata": {},
   "outputs": [
    {
     "name": "stdout",
     "output_type": "stream",
     "text": [
      "40 é par!\n"
     ]
    }
   ],
   "source": [
    "# Programa que recebe o número inteiro e diz se é par ou impar:\n",
    "\n",
    "num = int(input('Insira um número: '))\n",
    "\n",
    "if num%2 == 0:\n",
    "    print(f'{num} é par!')\n",
    "else:\n",
    "    print(f'{num} é impar!')"
   ]
  },
  {
   "cell_type": "code",
   "execution_count": 9,
   "metadata": {},
   "outputs": [
    {
     "name": "stdout",
     "output_type": "stream",
     "text": [
      "Eu tem 2 caracteres.\n",
      "amo tem 3 caracteres.\n",
      "o tem 1 caracteres.\n",
      "Guarujá tem 7 caracteres.\n"
     ]
    }
   ],
   "source": [
    "# Programa que solicita a frase e exibe as palavras e o número de caracteres:\n",
    "\n",
    "frase = input('Insira uma frase: ').split()\n",
    "\n",
    "for i in frase:\n",
    "    print(f'{i} tem {len(i)} caracteres.')\n"
   ]
  },
  {
   "cell_type": "code",
   "execution_count": 13,
   "metadata": {},
   "outputs": [
    {
     "name": "stdout",
     "output_type": "stream",
     "text": [
      "Senha correta!\n"
     ]
    }
   ],
   "source": [
    "# Programa que solicita uma senha de 4 digitos e só interrompe quando a senha 1234 é digitada:\n",
    "\n",
    "senha = 0\n",
    "\n",
    "while senha != '1234':\n",
    "    senha = input('Insira a senha:')\n",
    "\n",
    "print('Senha correta!')"
   ]
  },
  {
   "cell_type": "code",
   "execution_count": 29,
   "metadata": {},
   "outputs": [
    {
     "name": "stdout",
     "output_type": "stream",
     "text": [
      "O fatoral do seu número é 6.\n"
     ]
    }
   ],
   "source": [
    "# Programa que calcula o fatorial de um número:\n",
    "\n",
    "num = int(input('Insira um número a ser fatorado: '))\n",
    "cont = num\n",
    "\n",
    "while cont != 1:\n",
    "    num *= cont-1\n",
    "    cont -= 1\n",
    "\n",
    "print(f'O fatorial do seu número é {num}.')"
   ]
  },
  {
   "cell_type": "code",
   "execution_count": 48,
   "metadata": {},
   "outputs": [
    {
     "name": "stdout",
     "output_type": "stream",
     "text": [
      "Mês Janeiro: 232.\n",
      "Mês Fevereiro: 321.\n",
      "Mês Junho: 589.\n",
      "Mês Julho: 547.\n"
     ]
    }
   ],
   "source": [
    "# Dicionário de dados de uma tabela:\n",
    "\n",
    "dicio = {'Janeiro': 232,\n",
    "         'Fevereiro': 321,\n",
    "         'Junho': 589,\n",
    "         'Julho': 547}\n",
    "\n",
    "for i,j in dicio.items():\n",
    "    print(f'Mês {i}: {j}.')\n"
   ]
  }
 ],
 "metadata": {
  "kernelspec": {
   "display_name": "Python 3",
   "language": "python",
   "name": "python3"
  },
  "language_info": {
   "codemirror_mode": {
    "name": "ipython",
    "version": 3
   },
   "file_extension": ".py",
   "mimetype": "text/x-python",
   "name": "python",
   "nbconvert_exporter": "python",
   "pygments_lexer": "ipython3",
   "version": "3.12.1"
  }
 },
 "nbformat": 4,
 "nbformat_minor": 2
}
