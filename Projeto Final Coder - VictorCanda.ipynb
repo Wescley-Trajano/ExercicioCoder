{
 "cells": [
  {
   "cell_type": "code",
   "execution_count": 47,
   "metadata": {},
   "outputs": [
    {
     "data": {
      "text/plain": [
       "'\\nPrimeira entrega\\n\\nPara essa entrega focaremos somente nas etapas de:\\n\\n✓ Escolher uma API da lista disponível;\\n✓ Fazer a extração de pelo menos 3 tabelas;\\n✓ Criar um alerta de erro usando a função alerta() do desafio da aula Fundamentos de programação III.\\n\\nFormato\\n✓ O entregável é um link do GitHub para um arquivo .py ou .ipynb com a resolução proposta.\\n✓ Utilize o mesmo repositório criado na aula de GIT.   \\n\\nObservações\\n✓ Não é necessário fazer tratamentos das tabelas, salvar no banco de dados ou documentação nesta etapa do projeto\\n'"
      ]
     },
     "execution_count": 47,
     "metadata": {},
     "output_type": "execute_result"
    }
   ],
   "source": [
    "### Projeto Final Coder ###\n",
    "\n",
    "'''\n",
    "Primeira entrega\n",
    "\n",
    "Para essa entrega focaremos somente nas etapas de:\n",
    "\n",
    "✓ Escolher uma API da lista disponível;\n",
    "✓ Fazer a extração de pelo menos 3 tabelas;\n",
    "✓ Criar um alerta de erro usando a função alerta() do desafio da aula Fundamentos de programação III.\n",
    "\n",
    "Formato\n",
    "✓ O entregável é um link do GitHub para um arquivo .py ou .ipynb com a resolução proposta.\n",
    "✓ Utilize o mesmo repositório criado na aula de GIT.   \n",
    "\n",
    "Observações\n",
    "✓ Não é necessário fazer tratamentos das tabelas, salvar no banco de dados ou documentação nesta etapa do projeto\n",
    "'''"
   ]
  },
  {
   "cell_type": "code",
   "execution_count": 37,
   "metadata": {},
   "outputs": [],
   "source": [
    "import requests\n",
    "import pandas as pd\n",
    "from plyer import notification"
   ]
  },
  {
   "cell_type": "code",
   "execution_count": 38,
   "metadata": {},
   "outputs": [],
   "source": [
    "def result_req(url):\n",
    "    '''\n",
    "    Mostra um alerta por 10 segundos na tela, informando o status da URL\n",
    "    '''\n",
    "\n",
    "    req = requests.get(url)\n",
    "    reqsts = req.status_code\n",
    "    reqrea = req.reason\n",
    "\n",
    "    if reqsts == 200:\n",
    "        msg = 'A conexão foi estabelecida com sucesso!'\n",
    "    else:\n",
    "        msg = \"Falha na conexão!\"\n",
    "    \n",
    "    notification.notify(\n",
    "    title=f'STATUS DA CONEXÃO',\n",
    "    message=f'{msg} Cod: {reqsts}. Info: {reqrea}',\n",
    "    app_name=\" \",\n",
    "    timeout=10)"
   ]
  },
  {
   "cell_type": "code",
   "execution_count": 43,
   "metadata": {},
   "outputs": [],
   "source": [
    "url_feriados24 = 'https://brasilapi.com.br/api/feriados/v1/2024' # lista dos feriados nacionais em 2024.\n",
    "url_pix = 'https://brasilapi.com.br/api/pix/v1/participants' # lista de instituções bancárias que utilizam o pix no país.\n",
    "url_clima = 'https://brasilapi.com.br/api/cptec/v1/clima/capital' # condições meteorológicas atuais nas capitais do país.\n",
    "\n",
    "url_error = 'https://brasilapi.com.br/api/feriados/v1/20xx' # uma url com erro para validação da 'def'"
   ]
  },
  {
   "cell_type": "code",
   "execution_count": 44,
   "metadata": {},
   "outputs": [],
   "source": [
    "result_req(url_error)"
   ]
  }
 ],
 "metadata": {
  "kernelspec": {
   "display_name": "Python 3",
   "language": "python",
   "name": "python3"
  },
  "language_info": {
   "codemirror_mode": {
    "name": "ipython",
    "version": 3
   },
   "file_extension": ".py",
   "mimetype": "text/x-python",
   "name": "python",
   "nbconvert_exporter": "python",
   "pygments_lexer": "ipython3",
   "version": "3.12.1"
  }
 },
 "nbformat": 4,
 "nbformat_minor": 2
}
