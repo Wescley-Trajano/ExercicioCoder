{
 "cells": [
  {
   "cell_type": "code",
   "execution_count": null,
   "metadata": {},
   "outputs": [],
   "source": [
    "# Programa em python que calcula o IMC:\n",
    "\n",
    "# Calculo IMC: PESO dividido pela ALTURA elevada ao quadrado\n",
    "\n",
    "peso = input('Informe seu peso(kg): ')\n",
    "altura = input('Informe sua altura(m): ')\n",
    "\n",
    "peso = float(peso.replace(',','.'))\n",
    "altura = float(altura.replace(',','.'))\n",
    "\n",
    "imc = round(peso / (altura**2), 2)\n",
    "\n",
    "print(f'Seu IMC é de {imc}.')"
   ]
  },
  {
   "cell_type": "code",
   "execution_count": null,
   "metadata": {},
   "outputs": [],
   "source": [
    "# Programa que cria a lista com numeros inteiros\n",
    "\n",
    "lista = []\n",
    "\n",
    "for i in range(5):\n",
    "    num = input(f'Informe o {i+1}º número inteiro: ')\n",
    "    lista.append(num)\n",
    "\n",
    "print(lista)"
   ]
  },
  {
   "cell_type": "code",
   "execution_count": null,
   "metadata": {},
   "outputs": [],
   "source": [
    "# Programa de lista de nomes\n",
    "\n",
    "lista = input('Digite uma lista de nomes (com separador \",\"): ')\n",
    "\n",
    "lista = list(lista.split(\",\"))\n",
    "\n",
    "print(lista)"
   ]
  }
 ],
 "metadata": {
  "kernelspec": {
   "display_name": "Python 3",
   "language": "python",
   "name": "python3"
  },
  "language_info": {
   "codemirror_mode": {
    "name": "ipython",
    "version": 3
   },
   "file_extension": ".py",
   "mimetype": "text/x-python",
   "name": "python",
   "nbconvert_exporter": "python",
   "pygments_lexer": "ipython3",
   "version": "3.12.1"
  }
 },
 "nbformat": 4,
 "nbformat_minor": 2
}
