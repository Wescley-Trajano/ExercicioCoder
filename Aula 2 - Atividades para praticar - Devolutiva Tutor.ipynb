{
 "cells": [
  {
   "cell_type": "code",
   "execution_count": 1,
   "metadata": {},
   "outputs": [
    {
     "name": "stdout",
     "output_type": "stream",
     "text": [
      "Seu IMC é de 24.77.\n"
     ]
    }
   ],
   "source": [
    "# Programa em python que calcula o IMC:\n",
    "\n",
    "# Calculo IMC: PESO dividido pela ALTURA elevada ao quadrado\n",
    "\n",
    "peso = input('Informe seu peso(kg): ')\n",
    "altura = input('Informe sua altura(m): ')\n",
    "\n",
    "peso = float(peso.replace(',','.'))\n",
    "altura = float(altura.replace(',','.'))\n",
    "\n",
    "imc = round(peso / (altura**2), 2)\n",
    "\n",
    "print(f'Seu IMC é de {imc}.')"
   ]
  },
  {
   "cell_type": "markdown",
   "metadata": {},
   "source": [
    "### Comentários do Tutor:\n",
    "##### Código muito limpo, escrito em blocos de acordo com o desenvolvimento do problema, facilitando o entendimento\n",
    "##### Boa utilização do print e input com f-string para ajudar o usuário"
   ]
  },
  {
   "cell_type": "code",
   "execution_count": 2,
   "metadata": {},
   "outputs": [
    {
     "name": "stdout",
     "output_type": "stream",
     "text": [
      "['1', '2', '3', '4', '5']\n"
     ]
    }
   ],
   "source": [
    "# Programa que cria a lista com numeros inteiros\n",
    "\n",
    "lista = []\n",
    "\n",
    "for i in range(5):\n",
    "    num = input(f'Informe o {i+1}º número inteiro: ')\n",
    "    lista.append(num)\n",
    "\n",
    "print(lista)"
   ]
  },
  {
   "cell_type": "markdown",
   "metadata": {},
   "source": [
    "## Sugestão de desenvolvimento:"
   ]
  },
  {
   "cell_type": "code",
   "execution_count": 4,
   "metadata": {},
   "outputs": [
    {
     "name": "stdout",
     "output_type": "stream",
     "text": [
      "[1, 2, 2, 4, 5]\n"
     ]
    }
   ],
   "source": [
    "# Programa que cria a lista com numeros inteiros\n",
    "\n",
    "lista = []\n",
    "\n",
    "for i in range(5):\n",
    "    num = int(input(f'Informe o {i+1}º número inteiro: '))\n",
    "    lista.append(num)\n",
    "\n",
    "print(lista)"
   ]
  },
  {
   "cell_type": "code",
   "execution_count": 3,
   "metadata": {},
   "outputs": [
    {
     "name": "stdout",
     "output_type": "stream",
     "text": [
      "['Jose', ' Antonio', ' Carlos']\n"
     ]
    }
   ],
   "source": [
    "# Programa de lista de nomes\n",
    "\n",
    "lista = input('Digite uma lista de nomes (com separador \",\"): ')\n",
    "\n",
    "lista = list(lista.split(\",\"))\n",
    "\n",
    "print(lista)"
   ]
  },
  {
   "cell_type": "markdown",
   "metadata": {},
   "source": [
    "## Sugestão de desenvolvimento:"
   ]
  },
  {
   "cell_type": "code",
   "execution_count": 8,
   "metadata": {},
   "outputs": [
    {
     "name": "stdout",
     "output_type": "stream",
     "text": [
      "A lista de nomes digitados foi: ['Jose', 'Antonio', 'Carlos']\n",
      "\n"
     ]
    }
   ],
   "source": [
    "lista = input('Digite uma lista de nomes (com separador \",\"): ')\n",
    "\n",
    "\n",
    "lista = lista.replace(' ','')\n",
    "lista = lista.split(',')\n",
    "\n",
    "print(f\"A lista de nomes digitados foi: {lista}\\n\")"
   ]
  },
  {
   "cell_type": "markdown",
   "metadata": {},
   "source": [
    "Olá, Victor!\n",
    "\n",
    "\n",
    "\n",
    "Tudo bom?\n",
    "\n",
    "\n",
    "\n",
    "Neste desafio, o objetivo era desenvolver os programas para os três problemas apresentados. Recebi o seu desafio, li suas respostas e vou compartilhar com você os pontos positivos e os pontos de desenvolvimento nas próximas linhas, ok? Antes de mais nada, gostaria de reforçar que um dos objetivos desse feedback é auxiliar você na sua jornada aqui na Coderhouse, contribuindo para o seu desenvolvimento no curso e nessa área de atuação e caso você tenha dúvidas, pode me enviar uma mensagem aqui no chat da plataforma. Bora lá? \n",
    "\n",
    "\n",
    "\n",
    "Pontos positivos: \n",
    "\n",
    " - Fez códigos limpos, dividindo em etapas que se relacionam, o que facilita o entendimento e manutenção, caso necessário. \n",
    " - Utilizou recursos avançados para o que foi apresentado na aula, como o loop no segundo exercício\n",
    " - Utilização do input e print com o f-string para facilitar o entendimento e a experiência de um possível usuário\n",
    " - Deixou pequenos comentários sobre o que se está desenvolvendo no código (no exercício são códigos pequenos e simples, mas pensando em códigos mais complexos é bom já desenvolver o hábito)\n",
    " - Conseguiu aplicar as operações e funções apresentadas na aula\n",
    "\n",
    "\n",
    "Pontos de desenvolvimento + Orientações:\n",
    "\n",
    " - No segundo exercício foi solicitado que o usuário inserisse números inteiros na lista, porém o input, por padrão, insere como texto (string), então o ideal era que tivesse forçado o tipo de inserção no input (ver solução proposta nas células acima)\n",
    " - O código desenvolvido atende o que foi pedido no exercício, porém, mesmo pedindo ao usuário que separa os nomes por vírgula, é esperado que também sejam inseridos espaços. Por isso seria interessante colocar um tratamento para que cada elemento da lista seja exatamente um nome, e não termos um espaço antes ou depois de cada um, o que ajudaria a evitar erros em um possível desenvolvimento a partir dessa lista de nomes.\n",
    "\n",
    "\n",
    "\n",
    "\n",
    "Estou à disposição caso tenha ficado com dúvidas, ok? Abraços"
   ]
  }
 ],
 "metadata": {
  "kernelspec": {
   "display_name": "Python 3",
   "language": "python",
   "name": "python3"
  },
  "language_info": {
   "codemirror_mode": {
    "name": "ipython",
    "version": 3
   },
   "file_extension": ".py",
   "mimetype": "text/x-python",
   "name": "python",
   "nbconvert_exporter": "python",
   "pygments_lexer": "ipython3",
   "version": "3.11.0"
  }
 },
 "nbformat": 4,
 "nbformat_minor": 2
}
