{
 "cells": [
  {
   "cell_type": "code",
   "execution_count": 1,
   "metadata": {},
   "outputs": [],
   "source": [
    "# Função 'Alerta' que cria uma notificação para uma falha de um aplicativo:\n",
    "\n",
    "from plyer import notification\n",
    "from datetime import datetime\n",
    "\n",
    "def alerta(nivel,base,etapa):\n",
    "    '''\n",
    "    Mostra um alerta por 10 segundos na tela, informando o nível do erro,\n",
    "    a base em que o erro ocorreu e a respectiva etapa.\n",
    "    '''\n",
    "\n",
    "    if nivel == 1:\n",
    "        niv = 'Alerta Baixo'\n",
    "    if nivel == 2:\n",
    "        niv = 'Alerta Médio'\n",
    "    if nivel == 3:\n",
    "        niv = 'Alerta Alto'\n",
    "    \n",
    "    notification.notify(\n",
    "    title=f'ATENÇÃO: {niv}',\n",
    "    message=f'Falha no carregamento da base {base} na etapa {etapa}.\\n{str(datetime.now())}',\n",
    "    app_name=\"Aplicativo Lalala\",\n",
    "    timeout=10)\n",
    "\n",
    "alerta(2,'CLIENTES','EXTRAÇÃO')"
   ]
  }
 ],
 "metadata": {
  "kernelspec": {
   "display_name": "Python 3",
   "language": "python",
   "name": "python3"
  },
  "language_info": {
   "codemirror_mode": {
    "name": "ipython",
    "version": 3
   },
   "file_extension": ".py",
   "mimetype": "text/x-python",
   "name": "python",
   "nbconvert_exporter": "python",
   "pygments_lexer": "ipython3",
   "version": "3.12.1"
  }
 },
 "nbformat": 4,
 "nbformat_minor": 2
}
